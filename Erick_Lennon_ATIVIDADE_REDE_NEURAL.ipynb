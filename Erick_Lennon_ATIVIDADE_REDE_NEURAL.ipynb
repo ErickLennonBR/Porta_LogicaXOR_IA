{
  "nbformat": 4,
  "nbformat_minor": 0,
  "metadata": {
    "colab": {
      "provenance": []
    },
    "kernelspec": {
      "name": "python3",
      "display_name": "Python 3"
    },
    "language_info": {
      "name": "python"
    }
  },
  "cells": [
    {
      "cell_type": "markdown",
      "source": [],
      "metadata": {
        "id": "sAKF4B-GQp-E"
      }
    },
    {
      "cell_type": "code",
      "source": [
        "import numpy as np"
      ],
      "metadata": {
        "id": "zk3Tahk1b5fd"
      },
      "execution_count": 31,
      "outputs": []
    },
    {
      "cell_type": "code",
      "source": [
        "#Entradas X e Saída Y:"
      ],
      "metadata": {
        "id": "WR64LjtGCZB5"
      },
      "execution_count": 2,
      "outputs": []
    },
    {
      "cell_type": "code",
      "source": [
        "X = np.array([[0, 0],\n",
        "              [0, 1],\n",
        "              [1, 0],\n",
        "              [1, 1]])\n",
        "\n",
        "Y = np.array([[0],\n",
        "              [1],\n",
        "              [1],\n",
        "              [0]])"
      ],
      "metadata": {
        "id": "woJT8rkDCp6k"
      },
      "execution_count": 30,
      "outputs": []
    },
    {
      "cell_type": "code",
      "source": [
        "#Parâmetros:\n",
        "\n",
        "Learning_rate = 0.4\n",
        "entrada = 2\n",
        "saída = 1\n",
        "camada_oculta = 3\n",
        "epocas = 10000\n"
      ],
      "metadata": {
        "id": "OP5LdoehKvvf"
      },
      "execution_count": 40,
      "outputs": []
    },
    {
      "cell_type": "code",
      "source": [
        "#Função de Ativação sigmóide:"
      ],
      "metadata": {
        "id": "rj6sIkaTa_X1"
      },
      "execution_count": null,
      "outputs": []
    },
    {
      "cell_type": "code",
      "source": [
        "def sigmoid(x):\n",
        "  return 1/(1 + np.exp(-x))\n"
      ],
      "metadata": {
        "id": "bmGJxUZjbFha"
      },
      "execution_count": 34,
      "outputs": []
    },
    {
      "cell_type": "code",
      "source": [
        "#Derivada da função sigmóide para cálculo do Delta:"
      ],
      "metadata": {
        "id": "188HxqeL8ZRV"
      },
      "execution_count": null,
      "outputs": []
    },
    {
      "cell_type": "code",
      "source": [
        "def deriv_sigmoid(x):\n",
        "  return x * (1 - x)"
      ],
      "metadata": {
        "id": "kNZwz40T8ANu"
      },
      "execution_count": 35,
      "outputs": []
    },
    {
      "cell_type": "code",
      "source": [
        "#Função cálculo do erro:"
      ],
      "metadata": {
        "id": "N_HZRqfrCINa"
      },
      "execution_count": null,
      "outputs": []
    },
    {
      "cell_type": "code",
      "source": [
        "def erro_saida(Y,output):\n",
        "  return(Y - output)"
      ],
      "metadata": {
        "id": "w_xDQ_wRBK7e"
      },
      "execution_count": 36,
      "outputs": []
    },
    {
      "cell_type": "code",
      "source": [
        "#Criando matrizes com pesos aleatórios:\n",
        "weight_input  = np.random.random(size=(entrada, camada_oculta))\n",
        "weight_output = np.random.random(size=(camada_oculta, saída))"
      ],
      "metadata": {
        "id": "Quq4JZygGHfK"
      },
      "execution_count": 69,
      "outputs": []
    },
    {
      "cell_type": "code",
      "source": [
        "#Feedforward e Backpropagation"
      ],
      "metadata": {
        "id": "q_IfARSZKmfQ"
      },
      "execution_count": null,
      "outputs": []
    },
    {
      "cell_type": "code",
      "source": [
        "for epoch in range(epocas):\n",
        " input_to_hidden = np.dot(X,weight_input)\n",
        " output_hidden = sigmoid(input_to_hidden)\n",
        " hidden_to_output = np.dot(output_hidden,weight_output)\n",
        " output = sigmoid(hidden_to_output)\n",
        "\n",
        "#Cálculo do erro de saída e Delta de Saída:\n",
        "\n",
        " erro = erro_saida(Y,output)\n",
        " DeltaSaída = erro * deriv_sigmoid(output)\n",
        "\n",
        " #Cálculo erro e Delta da camada oculta:\n",
        " erro_oculta = np.dot(DeltaSaída,weight_output.T)\n",
        " DeltaOculta = erro_oculta * deriv_sigmoid(output_hidden)\n",
        "\n",
        "#Atualizando os pesos entre a camada oculta e saída:\n",
        " weight_output = weight_output + np.dot(output_hidden.T,DeltaSaída) * Learning_rate\n",
        "\n",
        "#Atualizando os pesos entre entrada e a camada oculta:\n",
        " weight_input = weight_input + np.dot(X.T,DeltaOculta) * Learning_rate\n",
        "\n",
        "\n",
        "\n"
      ],
      "metadata": {
        "id": "wt0hftmTBZLr"
      },
      "execution_count": 70,
      "outputs": []
    },
    {
      "cell_type": "code",
      "source": [
        "print(\" Saída da rede neural após treinamento\")\n",
        "print(output)\n",
        "\n",
        "print(\" Predição\")\n",
        "predicao = np.round(output)\n",
        "print(predicao)\n",
        "\n",
        "print(\"Pesos da entrada para camada oculta\")\n",
        "print(weight_input)\n",
        "\n",
        "print(\"Pesos da camada oculta para saída\")\n",
        "print(weight_output)"
      ],
      "metadata": {
        "colab": {
          "base_uri": "https://localhost:8080/"
        },
        "id": "_B1JeSRnN_ou",
        "outputId": "e229a430-0d95-4702-d08a-8dfdc71096da"
      },
      "execution_count": 71,
      "outputs": [
        {
          "output_type": "stream",
          "name": "stdout",
          "text": [
            " Saída da rede neural após treinamento\n",
            "[[0.0516567 ]\n",
            " [0.96798202]\n",
            " [0.96798384]\n",
            " [0.01320858]]\n",
            " Predição\n",
            "[[0.]\n",
            " [1.]\n",
            " [1.]\n",
            " [0.]]\n",
            "Pesos da entrada para camada oculta\n",
            "[[ 5.31656523  6.09980855 -3.67785682]\n",
            " [ 5.32275809 -3.66086379  6.14460955]]\n",
            "Pesos da camada oculta para saída\n",
            "[[13.19803194]\n",
            " [-9.51142617]\n",
            " [-9.50691131]]\n"
          ]
        }
      ]
    }
  ]
}